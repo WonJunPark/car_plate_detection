{
 "cells": [
  {
   "cell_type": "code",
   "execution_count": 2,
   "metadata": {},
   "outputs": [],
   "source": [
    "import os, glob\n",
    " \n",
    "import os.path\n",
    " \n",
    "targerdir = r\"./augmented_data\"\n",
    " \n",
    "files = os.listdir(targerdir)\n",
    " \n",
    "li = []\n",
    "\n",
    "for i in files :\n",
    "    li.append(i)"
   ]
  },
  {
   "cell_type": "code",
   "execution_count": 3,
   "metadata": {},
   "outputs": [
    {
     "name": "stdout",
     "output_type": "stream",
     "text": [
      "['0', '1', '2', '3', '4', '5', '6', '7', '8', '9', 'a', 'ah', 'aj', 'ak', 'an', 'augmented_data.zip', 'av', 'b', 'bv', 'c', 'cv', 'd', 'dh', 'dj', 'dk', 'dn', 'dv', 'e', 'eh', 'ej', 'ek', 'en', 'ev', 'f', 'fh', 'fj', 'fk', 'fn', 'fv', 'g', 'gh', 'gj', 'gk', 'gv', 'h', 'hv', 'i', 'iv', 'j', 'jv', 'k', 'kv', 'l', 'lv', 'm', 'mv', 'n', 'nv', 'o', 'ov', 'p', 'pv', 'qh', 'qj', 'qk', 'qn', 'qo', 'rh', 'rj', 'rk', 'rn', 'sh', 'sj', 'sk', 'sn', 'th', 'tj', 'tk', 'tn', 'wh', 'wj', 'wk', 'wn']\n"
     ]
    }
   ],
   "source": [
    "print(li)"
   ]
  },
  {
   "cell_type": "code",
   "execution_count": 18,
   "metadata": {},
   "outputs": [],
   "source": [
    "for i in li:\n",
    "    if not(os.path.isdir(\"./car_plate_sample/\"+i)):\n",
    "        os.makedirs(os.path.join(\"./car_plate_sample/\"+i))"
   ]
  },
  {
   "cell_type": "code",
   "execution_count": null,
   "metadata": {},
   "outputs": [],
   "source": []
  },
  {
   "cell_type": "code",
   "execution_count": 19,
   "metadata": {},
   "outputs": [],
   "source": [
    "import shutil"
   ]
  },
  {
   "cell_type": "code",
   "execution_count": 22,
   "metadata": {},
   "outputs": [],
   "source": [
    "org_path = \"./augmented_data/\"\n",
    "new_path = \"./car_plate_sample/\""
   ]
  },
  {
   "cell_type": "code",
   "execution_count": null,
   "metadata": {},
   "outputs": [],
   "source": []
  },
  {
   "cell_type": "code",
   "execution_count": null,
   "metadata": {},
   "outputs": [],
   "source": [
    "for i in li:\n",
    "    for j in range()\n",
    "    shutil.copy(org_path+i+\"/output\",new_path+i+\"/\")"
   ]
  },
  {
   "cell_type": "code",
   "execution_count": null,
   "metadata": {},
   "outputs": [],
   "source": [
    "li2 = []\n",
    "\n",
    "for i in li:\n",
    "    for j in range(0,10):\n",
    "        print()"
   ]
  }
 ],
 "metadata": {
  "kernelspec": {
   "display_name": "Python 3",
   "language": "python",
   "name": "python3"
  },
  "language_info": {
   "codemirror_mode": {
    "name": "ipython",
    "version": 3
   },
   "file_extension": ".py",
   "mimetype": "text/x-python",
   "name": "python",
   "nbconvert_exporter": "python",
   "pygments_lexer": "ipython3",
   "version": "3.7.6"
  }
 },
 "nbformat": 4,
 "nbformat_minor": 4
}
